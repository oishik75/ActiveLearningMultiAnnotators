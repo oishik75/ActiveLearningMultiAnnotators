{
 "cells": [
  {
   "cell_type": "code",
   "execution_count": 1,
   "id": "005ac24c-be08-480c-8920-26e18c62bb04",
   "metadata": {},
   "outputs": [],
   "source": [
    "import argparse\n",
    "import pandas as pd\n",
    "import numpy as np\n",
    "from itertools import compress\n",
    "from sklearn.cluster import KMeans"
   ]
  },
  {
   "cell_type": "code",
   "execution_count": 2,
   "id": "085a2a5e-44e7-439f-95d1-27017b27bb01",
   "metadata": {},
   "outputs": [],
   "source": [
    "SEED = 0\n",
    "np.random.seed(SEED)"
   ]
  },
  {
   "cell_type": "markdown",
   "id": "38afe9f2-9be9-4eae-96ed-a49e86f63bce",
   "metadata": {},
   "source": [
    "### Load Dataset"
   ]
  },
  {
   "cell_type": "code",
   "execution_count": 3,
   "id": "c5516cc8-1689-4e46-b645-7d94f659ee9f",
   "metadata": {},
   "outputs": [],
   "source": [
    "dataset = \"data/vehicle-simulated-x.csv\""
   ]
  },
  {
   "cell_type": "code",
   "execution_count": 4,
   "id": "bdaf325f-0a2d-4186-ba80-5f0e5f8d209e",
   "metadata": {},
   "outputs": [],
   "source": [
    "data = pd.read_csv(dataset)"
   ]
  },
  {
   "cell_type": "code",
   "execution_count": 5,
   "id": "54d3f45c-ca60-4776-9d50-72e157c86684",
   "metadata": {},
   "outputs": [
    {
     "data": {
      "text/html": [
       "<div>\n",
       "<style scoped>\n",
       "    .dataframe tbody tr th:only-of-type {\n",
       "        vertical-align: middle;\n",
       "    }\n",
       "\n",
       "    .dataframe tbody tr th {\n",
       "        vertical-align: top;\n",
       "    }\n",
       "\n",
       "    .dataframe thead th {\n",
       "        text-align: right;\n",
       "    }\n",
       "</style>\n",
       "<table border=\"1\" class=\"dataframe\">\n",
       "  <thead>\n",
       "    <tr style=\"text-align: right;\">\n",
       "      <th></th>\n",
       "      <th>x_0</th>\n",
       "      <th>x_1</th>\n",
       "      <th>x_2</th>\n",
       "      <th>x_3</th>\n",
       "      <th>x_4</th>\n",
       "      <th>x_5</th>\n",
       "      <th>x_6</th>\n",
       "      <th>x_7</th>\n",
       "      <th>x_8</th>\n",
       "      <th>x_9</th>\n",
       "      <th>...</th>\n",
       "      <th>x_13</th>\n",
       "      <th>x_14</th>\n",
       "      <th>x_15</th>\n",
       "      <th>x_16</th>\n",
       "      <th>x_17</th>\n",
       "      <th>y</th>\n",
       "      <th>y_1</th>\n",
       "      <th>y_2</th>\n",
       "      <th>y_3</th>\n",
       "      <th>y_4</th>\n",
       "    </tr>\n",
       "  </thead>\n",
       "  <tbody>\n",
       "    <tr>\n",
       "      <th>0</th>\n",
       "      <td>95.0</td>\n",
       "      <td>48.0</td>\n",
       "      <td>83.0</td>\n",
       "      <td>178.0</td>\n",
       "      <td>72.0</td>\n",
       "      <td>10.0</td>\n",
       "      <td>162.0</td>\n",
       "      <td>42.0</td>\n",
       "      <td>20.0</td>\n",
       "      <td>159.0</td>\n",
       "      <td>...</td>\n",
       "      <td>70.0</td>\n",
       "      <td>6.0</td>\n",
       "      <td>16.0</td>\n",
       "      <td>187.0</td>\n",
       "      <td>197.0</td>\n",
       "      <td>3</td>\n",
       "      <td>1.0</td>\n",
       "      <td>3.0</td>\n",
       "      <td>3.0</td>\n",
       "      <td>1.0</td>\n",
       "    </tr>\n",
       "    <tr>\n",
       "      <th>1</th>\n",
       "      <td>91.0</td>\n",
       "      <td>41.0</td>\n",
       "      <td>84.0</td>\n",
       "      <td>141.0</td>\n",
       "      <td>57.0</td>\n",
       "      <td>9.0</td>\n",
       "      <td>149.0</td>\n",
       "      <td>45.0</td>\n",
       "      <td>19.0</td>\n",
       "      <td>143.0</td>\n",
       "      <td>...</td>\n",
       "      <td>72.0</td>\n",
       "      <td>9.0</td>\n",
       "      <td>14.0</td>\n",
       "      <td>189.0</td>\n",
       "      <td>199.0</td>\n",
       "      <td>3</td>\n",
       "      <td>0.0</td>\n",
       "      <td>3.0</td>\n",
       "      <td>3.0</td>\n",
       "      <td>3.0</td>\n",
       "    </tr>\n",
       "    <tr>\n",
       "      <th>2</th>\n",
       "      <td>104.0</td>\n",
       "      <td>50.0</td>\n",
       "      <td>106.0</td>\n",
       "      <td>209.0</td>\n",
       "      <td>66.0</td>\n",
       "      <td>10.0</td>\n",
       "      <td>207.0</td>\n",
       "      <td>32.0</td>\n",
       "      <td>23.0</td>\n",
       "      <td>158.0</td>\n",
       "      <td>...</td>\n",
       "      <td>73.0</td>\n",
       "      <td>14.0</td>\n",
       "      <td>9.0</td>\n",
       "      <td>188.0</td>\n",
       "      <td>196.0</td>\n",
       "      <td>2</td>\n",
       "      <td>2.0</td>\n",
       "      <td>2.0</td>\n",
       "      <td>3.0</td>\n",
       "      <td>2.0</td>\n",
       "    </tr>\n",
       "    <tr>\n",
       "      <th>3</th>\n",
       "      <td>93.0</td>\n",
       "      <td>41.0</td>\n",
       "      <td>82.0</td>\n",
       "      <td>159.0</td>\n",
       "      <td>63.0</td>\n",
       "      <td>9.0</td>\n",
       "      <td>144.0</td>\n",
       "      <td>46.0</td>\n",
       "      <td>19.0</td>\n",
       "      <td>143.0</td>\n",
       "      <td>...</td>\n",
       "      <td>63.0</td>\n",
       "      <td>6.0</td>\n",
       "      <td>10.0</td>\n",
       "      <td>199.0</td>\n",
       "      <td>207.0</td>\n",
       "      <td>3</td>\n",
       "      <td>0.0</td>\n",
       "      <td>3.0</td>\n",
       "      <td>3.0</td>\n",
       "      <td>3.0</td>\n",
       "    </tr>\n",
       "    <tr>\n",
       "      <th>4</th>\n",
       "      <td>85.0</td>\n",
       "      <td>44.0</td>\n",
       "      <td>70.0</td>\n",
       "      <td>205.0</td>\n",
       "      <td>103.0</td>\n",
       "      <td>52.0</td>\n",
       "      <td>149.0</td>\n",
       "      <td>45.0</td>\n",
       "      <td>19.0</td>\n",
       "      <td>144.0</td>\n",
       "      <td>...</td>\n",
       "      <td>127.0</td>\n",
       "      <td>9.0</td>\n",
       "      <td>11.0</td>\n",
       "      <td>180.0</td>\n",
       "      <td>183.0</td>\n",
       "      <td>0</td>\n",
       "      <td>0.0</td>\n",
       "      <td>0.0</td>\n",
       "      <td>0.0</td>\n",
       "      <td>0.0</td>\n",
       "    </tr>\n",
       "  </tbody>\n",
       "</table>\n",
       "<p>5 rows × 23 columns</p>\n",
       "</div>"
      ],
      "text/plain": [
       "     x_0   x_1    x_2    x_3    x_4   x_5    x_6   x_7   x_8    x_9  ...  \\\n",
       "0   95.0  48.0   83.0  178.0   72.0  10.0  162.0  42.0  20.0  159.0  ...   \n",
       "1   91.0  41.0   84.0  141.0   57.0   9.0  149.0  45.0  19.0  143.0  ...   \n",
       "2  104.0  50.0  106.0  209.0   66.0  10.0  207.0  32.0  23.0  158.0  ...   \n",
       "3   93.0  41.0   82.0  159.0   63.0   9.0  144.0  46.0  19.0  143.0  ...   \n",
       "4   85.0  44.0   70.0  205.0  103.0  52.0  149.0  45.0  19.0  144.0  ...   \n",
       "\n",
       "    x_13  x_14  x_15   x_16   x_17  y  y_1  y_2  y_3  y_4  \n",
       "0   70.0   6.0  16.0  187.0  197.0  3  1.0  3.0  3.0  1.0  \n",
       "1   72.0   9.0  14.0  189.0  199.0  3  0.0  3.0  3.0  3.0  \n",
       "2   73.0  14.0   9.0  188.0  196.0  2  2.0  2.0  3.0  2.0  \n",
       "3   63.0   6.0  10.0  199.0  207.0  3  0.0  3.0  3.0  3.0  \n",
       "4  127.0   9.0  11.0  180.0  183.0  0  0.0  0.0  0.0  0.0  \n",
       "\n",
       "[5 rows x 23 columns]"
      ]
     },
     "execution_count": 5,
     "metadata": {},
     "output_type": "execute_result"
    }
   ],
   "source": [
    "data.head()"
   ]
  },
  {
   "cell_type": "code",
   "execution_count": 6,
   "id": "e749eb78-5cbf-4902-99e2-99e02c5d191f",
   "metadata": {},
   "outputs": [],
   "source": [
    "columns = list(data.columns.values)\n",
    "feature_cols = list(compress(columns, [c.startswith('x_') for c in columns]))\n",
    "ground_truth_labels = data[\"y\"].to_numpy()\n",
    "n_classes = len(np.unique(ground_truth_labels))"
   ]
  },
  {
   "cell_type": "code",
   "execution_count": 7,
   "id": "afce68e3-1657-4230-9257-c91e3441a4fe",
   "metadata": {},
   "outputs": [
    {
     "data": {
      "text/plain": [
       "4"
      ]
     },
     "execution_count": 7,
     "metadata": {},
     "output_type": "execute_result"
    }
   ],
   "source": [
    "n_classes"
   ]
  },
  {
   "cell_type": "markdown",
   "id": "5adf3690-452e-4835-a926-929b4feada6b",
   "metadata": {},
   "source": [
    "### Random Annotators"
   ]
  },
  {
   "cell_type": "code",
   "execution_count": 8,
   "id": "4fda94e2-d7cf-49de-9ee4-74650b732f21",
   "metadata": {},
   "outputs": [],
   "source": [
    "n_annotators_random = 3\n",
    "annotator_random_probs = [0.6, 0.5, 0.4]"
   ]
  },
  {
   "cell_type": "code",
   "execution_count": 9,
   "id": "41ffe554-3513-4a2d-8250-53a065f9c046",
   "metadata": {},
   "outputs": [],
   "source": [
    "# Generate annotations for random annotators\n",
    "random_annotations = []\n",
    "for i in range(n_annotators_random):\n",
    "    annotations = [label if np.random.rand() < annotator_random_probs[i] else np.random.choice(list(set(range(n_classes)) - set([label]))) for label in ground_truth_labels]\n",
    "    random_annotations.append(annotations)"
   ]
  },
  {
   "cell_type": "code",
   "execution_count": 10,
   "id": "03df71c7-a1f0-4700-9542-412cc1b0a5ad",
   "metadata": {},
   "outputs": [
    {
     "data": {
      "text/plain": [
       "array([0.59810875, 0.49054374, 0.39952719])"
      ]
     },
     "execution_count": 10,
     "metadata": {},
     "output_type": "execute_result"
    }
   ],
   "source": [
    "# Actual random annotator accuracies\n",
    "(np.array(random_annotations) == ground_truth_labels).mean(axis=1)"
   ]
  },
  {
   "cell_type": "markdown",
   "id": "329f7416-3d42-4122-b093-e402e21c8ec7",
   "metadata": {},
   "source": [
    "### Instance Dependent Annotators"
   ]
  },
  {
   "cell_type": "markdown",
   "id": "5b6d1755-94c2-4d32-b698-cdeef8176258",
   "metadata": {},
   "source": [
    "For instance dependent annotators, we do the following:\n",
    "1. We group the data into n clusters.\n",
    "2. Each annotator is assigned a cluster.\n",
    "3. If an annotator gets an instance with the assigned cluster, he correctly predicts the label with give probability.\n",
    "4. Else he randomly predicts the label."
   ]
  },
  {
   "cell_type": "code",
   "execution_count": 11,
   "id": "0eee396c-00ad-4460-a724-d70fc30c1c8f",
   "metadata": {},
   "outputs": [],
   "source": [
    "n_annotators_inst_dep = 10\n",
    "n_clusters = n_annotators_inst_dep // 2 # We assign to annotators to one cluster.\n",
    "annotator_inst_dep_probs = [0.6, 0.7, 0.7, 0.85, 0.65, 0.9, 0.78, 0.95, 0.8, 0.68]"
   ]
  },
  {
   "cell_type": "code",
   "execution_count": 12,
   "id": "db2f0c01-294d-42d6-9383-cdfcd577c03c",
   "metadata": {},
   "outputs": [
    {
     "name": "stderr",
     "output_type": "stream",
     "text": [
      "D:\\Code\\multi_annotator_active_learning\\active_env\\lib\\site-packages\\sklearn\\cluster\\_kmeans.py:1412: FutureWarning: The default value of `n_init` will change from 10 to 'auto' in 1.4. Set the value of `n_init` explicitly to suppress the warning\n",
      "  super()._check_params_vs_input(X, default_n_init=10)\n"
     ]
    }
   ],
   "source": [
    "# Cluster the data and get cluster labels\n",
    "model = KMeans(n_clusters=n_clusters)\n",
    "cluster_labels = model.fit_predict(data[feature_cols])"
   ]
  },
  {
   "cell_type": "code",
   "execution_count": 13,
   "id": "29c23a42-fd63-45a9-8368-b246d7578b46",
   "metadata": {},
   "outputs": [],
   "source": [
    "# Assign a cluster to each annotator\n",
    "annotator_inst_dep_clusters = [i%n_clusters for i in range(n_annotators_inst_dep)]"
   ]
  },
  {
   "cell_type": "code",
   "execution_count": 14,
   "id": "97486be5-ca9d-466c-95b4-1006a583d910",
   "metadata": {},
   "outputs": [],
   "source": [
    "inst_dep_annotations = []\n",
    "for i in range(n_annotators_inst_dep):\n",
    "    annotations = []\n",
    "    for idx, label in enumerate(ground_truth_labels):\n",
    "        if cluster_labels[idx] == annotator_inst_dep_clusters[i]: # instance belongs to the cluster specialised by annotator\n",
    "            annotations.append(label if np.random.rand() < annotator_inst_dep_probs[i] else np.random.choice(list(set(range(n_classes)) - set([label]))))\n",
    "        else:\n",
    "            annotations.append(np.random.choice(list(range(n_classes))))\n",
    "    inst_dep_annotations.append(annotations)"
   ]
  },
  {
   "cell_type": "code",
   "execution_count": 15,
   "id": "8d512e2a-c9d5-427d-8931-9fabeb0ba2fb",
   "metadata": {},
   "outputs": [
    {
     "name": "stdout",
     "output_type": "stream",
     "text": [
      "Annotator Accuracies: [0.28250591016548465, 0.3321513002364066, 0.3404255319148936, 0.2635933806146572, 0.41252955082742315, 0.35224586288416077, 0.3617021276595745, 0.3747044917257683, 0.2765957446808511, 0.4160756501182033]\n",
      "Annotator Correct Cluster Accuracies: [0.5491803278688525, 0.631578947368421, 0.6867469879518072, 0.875, 0.6482558139534884, 0.9016393442622951, 0.8210526315789474, 0.9518072289156626, 0.7916666666666666, 0.6773255813953488]\n",
      "Annotator Incorrect Cluster Accuracies: [0.23756906077348067, 0.24542682926829268, 0.25588235294117645, 0.24574209245742093, 0.250996015936255, 0.2596685082872928, 0.22865853658536586, 0.2338235294117647, 0.2615571776155718, 0.23705179282868527]\n"
     ]
    }
   ],
   "source": [
    "# Actual instance dependent annotator accuracies\n",
    "annotator_accuracies = []\n",
    "annotator_correct_cluster_accuracies = []\n",
    "annotator_incorrect_cluster_accuracies = []\n",
    "for i in range(n_annotators_inst_dep):\n",
    "    annotator_accuracies.append((inst_dep_annotations[i] == ground_truth_labels).mean())\n",
    "    annotator_correct_cluster_accuracies.append((inst_dep_annotations[i] == ground_truth_labels)[cluster_labels == annotator_inst_dep_clusters[i]].mean())\n",
    "    annotator_incorrect_cluster_accuracies.append((inst_dep_annotations[i] == ground_truth_labels)[cluster_labels != annotator_inst_dep_clusters[i]].mean())\n",
    "\n",
    "print(f\"Annotator Accuracies: {annotator_accuracies}\")\n",
    "print(f\"Annotator Correct Cluster Accuracies: {annotator_correct_cluster_accuracies}\")\n",
    "print(f\"Annotator Incorrect Cluster Accuracies: {annotator_incorrect_cluster_accuracies}\")"
   ]
  },
  {
   "cell_type": "markdown",
   "id": "360d5245-5c51-4470-8ee4-b8f054ac07b3",
   "metadata": {},
   "source": [
    "### Class Dependent Annotators"
   ]
  },
  {
   "cell_type": "code",
   "execution_count": 16,
   "id": "7fc87205-443f-4a3d-b990-b8c9915c553b",
   "metadata": {},
   "outputs": [],
   "source": [
    "n_annotators_class_dep = 8\n",
    "annotator_class_dep_probs = [0.7, 0.85, 0.9, 0.9, 0.8, 0.82, 0.75, 0.95]\n",
    "annotator_class_dep_classes = [0, 1, 3, 2, 2, 1, 0, 3]"
   ]
  },
  {
   "cell_type": "code",
   "execution_count": 17,
   "id": "8a792362-f0eb-4d0b-b5aa-4223c5db9a9d",
   "metadata": {},
   "outputs": [],
   "source": [
    "# Generate annotations for class dependent annotators\n",
    "class_dep_annotations = []\n",
    "for i in range(n_annotators_class_dep):\n",
    "    annotations = []\n",
    "    for label in ground_truth_labels:\n",
    "        if label == annotator_class_dep_classes[i]: # instance belongs to the class specialised by annotator\n",
    "            annotations.append(label if np.random.rand() < annotator_class_dep_probs[i] else np.random.choice(list(set(range(n_classes)) - set([label]))))\n",
    "        else:\n",
    "            annotations.append(np.random.choice(list(range(n_classes))))\n",
    "    class_dep_annotations.append(annotations)"
   ]
  },
  {
   "cell_type": "code",
   "execution_count": 18,
   "id": "f7fceaf4-9a8c-41d5-9988-105d6a404e78",
   "metadata": {},
   "outputs": [
    {
     "name": "stdout",
     "output_type": "stream",
     "text": [
      "Annotator Accuracies: [0.37115839243498816, 0.3806146572104019, 0.3983451536643026, 0.4243498817966903, 0.38652482269503546, 0.35933806146572106, 0.3735224586288416, 0.408983451536643]\n",
      "Annotator Correct Cluster Accuracies: [0.6972477064220184, 0.839622641509434, 0.9095477386934674, 0.9170506912442397, 0.783410138248848, 0.75, 0.7752293577981652, 0.949748743718593]\n",
      "Annotator Incorrect Cluster Accuracies: [0.25796178343949044, 0.22712933753943218, 0.241112828438949, 0.2543720190779014, 0.24960254372019078, 0.22870662460567823, 0.2340764331210191, 0.2426584234930448]\n"
     ]
    }
   ],
   "source": [
    "# Actual class dependent annotator accuracies\n",
    "annotator_accuracies = []\n",
    "annotator_correct_class_accuracies = []\n",
    "annotator_incorrect_class_accuracies = []\n",
    "for i in range(n_annotators_class_dep):\n",
    "    annotator_accuracies.append((class_dep_annotations[i] == ground_truth_labels).mean())\n",
    "    annotator_correct_class_accuracies.append((class_dep_annotations[i] == ground_truth_labels)[ground_truth_labels == annotator_class_dep_classes[i]].mean())\n",
    "    annotator_incorrect_class_accuracies.append((class_dep_annotations[i] == ground_truth_labels)[ground_truth_labels != annotator_class_dep_classes[i]].mean())\n",
    "\n",
    "print(f\"Annotator Accuracies: {annotator_accuracies}\")\n",
    "print(f\"Annotator Correct Cluster Accuracies: {annotator_correct_class_accuracies}\")\n",
    "print(f\"Annotator Incorrect Cluster Accuracies: {annotator_incorrect_class_accuracies}\")"
   ]
  },
  {
   "cell_type": "markdown",
   "id": "c4e21eea-5d09-4af9-af6e-cbfb31203f48",
   "metadata": {},
   "source": [
    "### Save the new annotations data"
   ]
  },
  {
   "cell_type": "code",
   "execution_count": 19,
   "id": "bb7adcc2-c3bf-4a80-b488-2891aadd851e",
   "metadata": {},
   "outputs": [],
   "source": [
    "save_name = \"data/new/vehicle.csv\""
   ]
  },
  {
   "cell_type": "code",
   "execution_count": 20,
   "id": "25616a98-bfc8-4dab-8449-bc23bcbc0fef",
   "metadata": {},
   "outputs": [],
   "source": [
    "annotated_data = data[feature_cols + [\"y\"]].copy()\n",
    "annotator_idx = 0\n",
    "# Random Annotators\n",
    "for annotations in random_annotations:\n",
    "    annotated_data[f\"y_{annotator_idx}\"] = annotations\n",
    "    annotator_idx += 1\n",
    "# Instance Dependent Annotators\n",
    "for annotations in inst_dep_annotations:\n",
    "    annotated_data[f\"y_{annotator_idx}\"] = annotations\n",
    "    annotator_idx += 1\n",
    "# Class Dependent Annotators\n",
    "for annotations in class_dep_annotations:\n",
    "    annotated_data[f\"y_{annotator_idx}\"] = annotations\n",
    "    annotator_idx += 1\n",
    "\n",
    "annotated_data.to_csv(save_name, index=False)"
   ]
  },
  {
   "cell_type": "code",
   "execution_count": null,
   "id": "c526a113-3ee2-4f04-a629-846fc011cb58",
   "metadata": {},
   "outputs": [],
   "source": []
  }
 ],
 "metadata": {
  "kernelspec": {
   "display_name": "Python 3 (ipykernel)",
   "language": "python",
   "name": "python3"
  },
  "language_info": {
   "codemirror_mode": {
    "name": "ipython",
    "version": 3
   },
   "file_extension": ".py",
   "mimetype": "text/x-python",
   "name": "python",
   "nbconvert_exporter": "python",
   "pygments_lexer": "ipython3",
   "version": "3.9.13"
  }
 },
 "nbformat": 4,
 "nbformat_minor": 5
}
